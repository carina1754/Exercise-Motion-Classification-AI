{
 "cells": [
  {
   "cell_type": "markdown",
   "metadata": {
    "id": "F24g5bQ9tViM"
   },
   "source": [
    "# **데이터 불러오기**"
   ]
  },
  {
   "cell_type": "code",
   "execution_count": 14,
   "metadata": {
    "id": "TnJ19hrjly-9"
   },
   "outputs": [],
   "source": [
    "import pandas as pd\n",
    "import numpy as np\n",
    "\n",
    "train=pd.read_csv('train_features.csv')\n",
    "train_labels=pd.read_csv('train_labels.csv')\n",
    "test=pd.read_csv('test_features.csv')\n",
    "submission=pd.read_csv('sample_submission.csv')"
   ]
  },
  {
   "cell_type": "code",
   "execution_count": 22,
   "metadata": {
    "colab": {
     "base_uri": "https://localhost:8080/",
     "height": 391
    },
    "id": "aShrznpvmJKZ",
    "outputId": "eb2cc030-5db5-4dee-e2dd-5ca54ffde381"
   },
   "outputs": [
    {
     "output_type": "execute_result",
     "data": {
      "text/plain": [
       "           id  time     acc_x     acc_y     acc_z       gy_x        gy_y  \\\n",
       "0           0     0  1.206087 -0.179371 -0.148447  -0.591608  -30.549010   \n",
       "1           0     1  1.287696 -0.198974 -0.182444   0.303100  -39.139103   \n",
       "2           0     2  1.304609 -0.195114 -0.253382  -3.617278  -44.122565   \n",
       "3           0     3  1.293095 -0.230366 -0.215210   2.712986  -53.597843   \n",
       "4           0     4  1.300887 -0.187757 -0.222523   4.286707  -57.906561   \n",
       "...       ...   ...       ...       ...       ...        ...         ...   \n",
       "1874995  3124   595 -0.712530 -0.658357  0.293707 -29.367857 -104.013664   \n",
       "1874996  3124   596 -0.683037 -0.658466  0.329223 -30.149089 -101.796809   \n",
       "1874997  3124   597 -0.664730 -0.666625  0.364114 -27.873095  -98.776072   \n",
       "1874998  3124   598 -0.630534 -0.682565  0.373696 -23.636550  -99.139495   \n",
       "1874999  3124   599 -0.578351 -0.700235  0.384390 -17.917626 -100.181873   \n",
       "\n",
       "              gy_z         loc  \n",
       "0       -31.676112   44.010999  \n",
       "1       -24.927216   46.403958  \n",
       "2       -25.019629   50.851423  \n",
       "3       -27.454013   60.281107  \n",
       "4       -27.961234   64.446693  \n",
       "...            ...         ...  \n",
       "1874995 -76.290437  132.293402  \n",
       "1874996 -76.625087  130.931134  \n",
       "1874997 -79.365125  129.739912  \n",
       "1874998 -80.259478  129.726288  \n",
       "1874999 -80.676229  129.869561  \n",
       "\n",
       "[1875000 rows x 9 columns]"
      ],
      "text/html": "<div>\n<style scoped>\n    .dataframe tbody tr th:only-of-type {\n        vertical-align: middle;\n    }\n\n    .dataframe tbody tr th {\n        vertical-align: top;\n    }\n\n    .dataframe thead th {\n        text-align: right;\n    }\n</style>\n<table border=\"1\" class=\"dataframe\">\n  <thead>\n    <tr style=\"text-align: right;\">\n      <th></th>\n      <th>id</th>\n      <th>time</th>\n      <th>acc_x</th>\n      <th>acc_y</th>\n      <th>acc_z</th>\n      <th>gy_x</th>\n      <th>gy_y</th>\n      <th>gy_z</th>\n      <th>loc</th>\n    </tr>\n  </thead>\n  <tbody>\n    <tr>\n      <th>0</th>\n      <td>0</td>\n      <td>0</td>\n      <td>1.206087</td>\n      <td>-0.179371</td>\n      <td>-0.148447</td>\n      <td>-0.591608</td>\n      <td>-30.549010</td>\n      <td>-31.676112</td>\n      <td>44.010999</td>\n    </tr>\n    <tr>\n      <th>1</th>\n      <td>0</td>\n      <td>1</td>\n      <td>1.287696</td>\n      <td>-0.198974</td>\n      <td>-0.182444</td>\n      <td>0.303100</td>\n      <td>-39.139103</td>\n      <td>-24.927216</td>\n      <td>46.403958</td>\n    </tr>\n    <tr>\n      <th>2</th>\n      <td>0</td>\n      <td>2</td>\n      <td>1.304609</td>\n      <td>-0.195114</td>\n      <td>-0.253382</td>\n      <td>-3.617278</td>\n      <td>-44.122565</td>\n      <td>-25.019629</td>\n      <td>50.851423</td>\n    </tr>\n    <tr>\n      <th>3</th>\n      <td>0</td>\n      <td>3</td>\n      <td>1.293095</td>\n      <td>-0.230366</td>\n      <td>-0.215210</td>\n      <td>2.712986</td>\n      <td>-53.597843</td>\n      <td>-27.454013</td>\n      <td>60.281107</td>\n    </tr>\n    <tr>\n      <th>4</th>\n      <td>0</td>\n      <td>4</td>\n      <td>1.300887</td>\n      <td>-0.187757</td>\n      <td>-0.222523</td>\n      <td>4.286707</td>\n      <td>-57.906561</td>\n      <td>-27.961234</td>\n      <td>64.446693</td>\n    </tr>\n    <tr>\n      <th>...</th>\n      <td>...</td>\n      <td>...</td>\n      <td>...</td>\n      <td>...</td>\n      <td>...</td>\n      <td>...</td>\n      <td>...</td>\n      <td>...</td>\n      <td>...</td>\n    </tr>\n    <tr>\n      <th>1874995</th>\n      <td>3124</td>\n      <td>595</td>\n      <td>-0.712530</td>\n      <td>-0.658357</td>\n      <td>0.293707</td>\n      <td>-29.367857</td>\n      <td>-104.013664</td>\n      <td>-76.290437</td>\n      <td>132.293402</td>\n    </tr>\n    <tr>\n      <th>1874996</th>\n      <td>3124</td>\n      <td>596</td>\n      <td>-0.683037</td>\n      <td>-0.658466</td>\n      <td>0.329223</td>\n      <td>-30.149089</td>\n      <td>-101.796809</td>\n      <td>-76.625087</td>\n      <td>130.931134</td>\n    </tr>\n    <tr>\n      <th>1874997</th>\n      <td>3124</td>\n      <td>597</td>\n      <td>-0.664730</td>\n      <td>-0.666625</td>\n      <td>0.364114</td>\n      <td>-27.873095</td>\n      <td>-98.776072</td>\n      <td>-79.365125</td>\n      <td>129.739912</td>\n    </tr>\n    <tr>\n      <th>1874998</th>\n      <td>3124</td>\n      <td>598</td>\n      <td>-0.630534</td>\n      <td>-0.682565</td>\n      <td>0.373696</td>\n      <td>-23.636550</td>\n      <td>-99.139495</td>\n      <td>-80.259478</td>\n      <td>129.726288</td>\n    </tr>\n    <tr>\n      <th>1874999</th>\n      <td>3124</td>\n      <td>599</td>\n      <td>-0.578351</td>\n      <td>-0.700235</td>\n      <td>0.384390</td>\n      <td>-17.917626</td>\n      <td>-100.181873</td>\n      <td>-80.676229</td>\n      <td>129.869561</td>\n    </tr>\n  </tbody>\n</table>\n<p>1875000 rows × 9 columns</p>\n</div>"
     },
     "metadata": {},
     "execution_count": 22
    }
   ],
   "source": [
    "train = train[['id','time','acc_x','acc_y','acc_z','gy_x','gy_y','gy_z']]\n",
    "train = train.assign(loc = lambda x: np.hypot(np.hypot(x['gy_x'],x['gy_y']),x['gy_z']))\n",
    "test = test[['id','time','acc_x','acc_y','acc_z','gy_x','gy_y','gy_z']]\n",
    "test = test.assign(loc = lambda x: np.hypot(np.hypot(x['gy_x'],x['gy_y']),x['gy_z']))\n",
    "train"
   ]
  },
  {
   "cell_type": "code",
   "execution_count": 15,
   "metadata": {
    "id": "6xio1rC1mS3_"
   },
   "outputs": [],
   "source": [
    "import tensorflow as tf\n",
    "from keras.models import Sequential\n",
    "from keras.layers import Dense, LSTM"
   ]
  },
  {
   "cell_type": "code",
   "execution_count": 23,
   "metadata": {
    "colab": {
     "base_uri": "https://localhost:8080/"
    },
    "id": "MQ2iPzjtmUn4",
    "outputId": "63acc5c2-8e07-4498-8267-15e029a3d57b"
   },
   "outputs": [
    {
     "output_type": "execute_result",
     "data": {
      "text/plain": [
       "<tf.Tensor: shape=(3125, 600, 7), dtype=float64, numpy=\n",
       "array([[[ 1.20608659e+00, -1.79371436e-01, -1.48446664e-01, ...,\n",
       "         -3.05490095e+01, -3.16761119e+01,  4.40109991e+01],\n",
       "        [ 1.28769648e+00, -1.98973718e-01, -1.82443746e-01, ...,\n",
       "         -3.91391031e+01, -2.49272160e+01,  4.64039584e+01],\n",
       "        [ 1.30460912e+00, -1.95114490e-01, -2.53382483e-01, ...,\n",
       "         -4.41225645e+01, -2.50196286e+01,  5.08514229e+01],\n",
       "        ...,\n",
       "        [ 1.02564277e+00, -2.27845498e-01, -3.54516277e-01, ...,\n",
       "          2.57686541e+01,  1.89320704e+01,  3.20608096e+01],\n",
       "        [ 1.03155302e+00, -3.87862493e-01, -2.77856696e-01, ...,\n",
       "          2.86976939e+01,  2.06315770e+01,  3.66540338e+01],\n",
       "        [ 1.13815923e+00, -4.26846194e-01, -4.30263172e-01, ...,\n",
       "          2.16759504e+01,  3.21230070e+01,  4.18838726e+01]],\n",
       "\n",
       "       [[-2.11794694e-01, -7.87595918e-02,  8.54626552e-01, ...,\n",
       "          1.02111637e+01,  7.39034752e+00,  2.21650364e+01],\n",
       "        [-2.56963191e-01, -1.85552045e-02,  8.02171682e-01, ...,\n",
       "          9.80852462e-01,  7.94725819e+00,  2.77066328e+01],\n",
       "        [-2.57004669e-01, -1.41315031e-03,  8.06032376e-01, ...,\n",
       "         -3.95319982e+00,  1.98254838e+00,  1.81174429e+01],\n",
       "        ...,\n",
       "        [-2.18810585e-01, -6.84812823e-01,  6.99136739e-01, ...,\n",
       "         -2.55177041e+01, -1.03138918e+01,  7.28417782e+01],\n",
       "        [-1.85294666e-01, -3.92136844e-01,  8.25234800e-01, ...,\n",
       "         -5.98705281e+01, -1.70174179e+01,  1.03097374e+02],\n",
       "        [ 2.08481600e-02, -1.56782782e-01,  8.83098955e-01, ...,\n",
       "         -6.42109730e+01, -1.99073359e+01,  1.03495220e+02]],\n",
       "\n",
       "       [[ 2.41388080e-01, -4.37875835e-01,  7.97197537e-01, ...,\n",
       "         -1.89616276e+02, -2.25171356e+01,  1.91466936e+02],\n",
       "        [ 2.44968403e-01, -2.91248110e-01,  8.12054786e-01, ...,\n",
       "         -1.80351215e+02, -1.88866153e+01,  1.82508134e+02],\n",
       "        [ 2.80799077e-01, -3.44007162e-02,  7.79015016e-01, ...,\n",
       "         -1.81736547e+02, -1.15857589e+01,  1.86131412e+02],\n",
       "        ...,\n",
       "        [-2.94176172e-03, -2.90610160e-01,  1.06577500e+00, ...,\n",
       "          1.32213194e+02,  1.47372568e+01,  1.33734948e+02],\n",
       "        [-1.36764613e-01, -5.39106119e-01,  9.38386187e-01, ...,\n",
       "          1.41600715e+02,  2.50810671e+01,  1.45662475e+02],\n",
       "        [-3.02554004e-01, -2.63958639e-02,  8.64659129e-01, ...,\n",
       "          1.34145425e+02,  1.18454353e+01,  1.40804548e+02]],\n",
       "\n",
       "       ...,\n",
       "\n",
       "       [[-1.32799759e+00, -3.85353765e-01,  3.79149367e-01, ...,\n",
       "         -2.89407404e+02,  1.99711188e+02,  4.07557479e+02],\n",
       "        [-1.22806397e+00, -4.55965305e-01,  3.63710545e-01, ...,\n",
       "         -2.97176645e+02,  1.97797404e+02,  4.08517199e+02],\n",
       "        [-1.15907222e+00, -4.92482068e-01,  3.29496290e-01, ...,\n",
       "         -3.07394154e+02,  1.93937182e+02,  4.05096671e+02],\n",
       "        ...,\n",
       "        [-2.17204875e+00, -4.83840712e-01,  1.30818864e-01, ...,\n",
       "          3.22432083e+02, -1.89238586e+02,  3.81939729e+02],\n",
       "        [-1.99098000e+00, -5.39972572e-01,  7.17697815e-02, ...,\n",
       "          2.99868512e+02, -1.79674054e+02,  3.73638049e+02],\n",
       "        [-1.80420532e+00, -5.63502605e-01,  9.73586394e-02, ...,\n",
       "          2.85643918e+02, -1.75861945e+02,  3.67594449e+02]],\n",
       "\n",
       "       [[-2.88225707e-01,  6.43384439e-01, -5.54095375e-01, ...,\n",
       "          1.66248228e+02, -6.37149481e+01,  2.12405756e+02],\n",
       "        [-2.39797336e-01,  7.26503709e-01, -5.66639170e-01, ...,\n",
       "          1.75056827e+02, -5.87697658e+01,  2.06199669e+02],\n",
       "        [-2.73094945e-01,  8.48886243e-01, -5.62027900e-01, ...,\n",
       "          1.80979534e+02, -4.65720679e+01,  2.09812812e+02],\n",
       "        ...,\n",
       "        [-8.25275200e-01,  2.91954159e-01, -3.59869678e-01, ...,\n",
       "         -2.83570396e+01, -5.20781992e+01,  5.98896363e+01],\n",
       "        [-8.57253914e-01,  2.72406256e-01, -3.40558414e-01, ...,\n",
       "         -2.93960445e+01, -4.50538020e+01,  5.37957870e+01],\n",
       "        [-8.79598141e-01,  2.99726982e-01, -3.30455036e-01, ...,\n",
       "         -2.82528255e+01, -3.91980628e+01,  4.94585394e+01]],\n",
       "\n",
       "       [[-8.62090126e-01, -4.48950741e-01,  3.25390051e-01, ...,\n",
       "         -8.77980817e+01, -6.41383186e+01,  1.10167112e+02],\n",
       "        [-8.40664700e-01, -4.91719121e-01,  3.62416865e-01, ...,\n",
       "         -9.22456110e+01, -6.66374344e+01,  1.14330255e+02],\n",
       "        [-8.17442361e-01, -5.28205261e-01,  3.85158457e-01, ...,\n",
       "         -9.64200871e+01, -6.91062582e+01,  1.18880765e+02],\n",
       "        ...,\n",
       "        [-6.64730300e-01, -6.66625081e-01,  3.64114150e-01, ...,\n",
       "         -9.87760722e+01, -7.93651247e+01,  1.29739912e+02],\n",
       "        [-6.30533630e-01, -6.82564758e-01,  3.73696297e-01, ...,\n",
       "         -9.91394951e+01, -8.02594777e+01,  1.29726288e+02],\n",
       "        [-5.78351314e-01, -7.00235005e-01,  3.84389655e-01, ...,\n",
       "         -1.00181873e+02, -8.06762295e+01,  1.29869561e+02]]])>"
      ]
     },
     "metadata": {},
     "execution_count": 23
    }
   ],
   "source": [
    "X=tf.reshape(np.array(train.iloc[:,2:]),[-1, 600,7])\n",
    "X.shape\n",
    "X"
   ]
  },
  {
   "cell_type": "code",
   "execution_count": 5,
   "metadata": {
    "colab": {
     "base_uri": "https://localhost:8080/"
    },
    "id": "iQTKRA32p0N_",
    "outputId": "e22c901a-ec30-460f-b100-5e807e329bc0"
   },
   "outputs": [
    {
     "output_type": "execute_result",
     "data": {
      "text/plain": [
       "(3125, 61)"
      ]
     },
     "metadata": {},
     "execution_count": 5
    }
   ],
   "source": [
    "y = tf.keras.utils.to_categorical(train_labels['label']) \n",
    "y.shape"
   ]
  },
  {
   "cell_type": "code",
   "execution_count": 6,
   "metadata": {
    "id": "BnMFUZxvmZd3"
   },
   "outputs": [],
   "source": [
    "#가벼운 모델 생성\n",
    "model = Sequential()\n",
    "model.add(LSTM(32, input_shape=(600,7)))\n",
    "model.add(Dense(128, activation='relu'))\n",
    "model.add(Dense(61, activation='softmax'))\n",
    "\n",
    "model.compile(optimizer='rmsprop', loss='categorical_crossentropy', metrics=['accuracy'])"
   ]
  },
  {
   "cell_type": "code",
   "execution_count": 7,
   "metadata": {
    "colab": {
     "base_uri": "https://localhost:8080/"
    },
    "id": "LqrcnKx_mayg",
    "outputId": "1ecb10bf-2466-4d6d-d069-f3c877273cc8"
   },
   "outputs": [
    {
     "output_type": "stream",
     "name": "stdout",
     "text": [
      "Epoch 1/30\n",
      "20/20 [==============================] - 7s 115ms/step - loss: 3.9613 - accuracy: 0.1742 - val_loss: 3.1191 - val_accuracy: 0.4976\n",
      "Epoch 2/30\n",
      "20/20 [==============================] - 1s 30ms/step - loss: 2.9419 - accuracy: 0.4836 - val_loss: 2.6865 - val_accuracy: 0.4976\n",
      "Epoch 3/30\n",
      "20/20 [==============================] - 1s 30ms/step - loss: 2.7236 - accuracy: 0.4792 - val_loss: 2.6412 - val_accuracy: 0.4976\n",
      "Epoch 4/30\n",
      "20/20 [==============================] - 1s 30ms/step - loss: 2.7018 - accuracy: 0.4655 - val_loss: 2.6030 - val_accuracy: 0.4976\n",
      "Epoch 5/30\n",
      "20/20 [==============================] - 1s 30ms/step - loss: 2.5784 - accuracy: 0.4889 - val_loss: 2.5635 - val_accuracy: 0.4976\n",
      "Epoch 6/30\n",
      "20/20 [==============================] - 1s 31ms/step - loss: 2.4881 - accuracy: 0.4903 - val_loss: 2.5313 - val_accuracy: 0.4976\n",
      "Epoch 7/30\n",
      "20/20 [==============================] - 1s 30ms/step - loss: 2.5105 - accuracy: 0.4747 - val_loss: 2.4933 - val_accuracy: 0.4992\n",
      "Epoch 8/30\n",
      "20/20 [==============================] - 1s 30ms/step - loss: 2.4646 - accuracy: 0.4797 - val_loss: 2.4779 - val_accuracy: 0.5056\n",
      "Epoch 9/30\n",
      "20/20 [==============================] - 1s 30ms/step - loss: 2.3484 - accuracy: 0.5005 - val_loss: 2.4490 - val_accuracy: 0.5120\n",
      "Epoch 10/30\n",
      "20/20 [==============================] - 1s 30ms/step - loss: 2.3452 - accuracy: 0.4920 - val_loss: 2.4226 - val_accuracy: 0.5104\n",
      "Epoch 11/30\n",
      "20/20 [==============================] - 1s 29ms/step - loss: 2.3666 - accuracy: 0.4841 - val_loss: 2.4037 - val_accuracy: 0.5104\n",
      "Epoch 12/30\n",
      "20/20 [==============================] - 1s 29ms/step - loss: 2.2009 - accuracy: 0.5145 - val_loss: 2.3749 - val_accuracy: 0.5088\n",
      "Epoch 13/30\n",
      "20/20 [==============================] - 1s 30ms/step - loss: 2.2367 - accuracy: 0.5008 - val_loss: 2.3558 - val_accuracy: 0.5104\n",
      "Epoch 14/30\n",
      "20/20 [==============================] - 1s 30ms/step - loss: 2.1613 - accuracy: 0.5051 - val_loss: 2.3263 - val_accuracy: 0.5152\n",
      "Epoch 15/30\n",
      "20/20 [==============================] - 1s 29ms/step - loss: 2.0908 - accuracy: 0.5138 - val_loss: 2.3094 - val_accuracy: 0.5120\n",
      "Epoch 16/30\n",
      "20/20 [==============================] - 1s 30ms/step - loss: 2.1677 - accuracy: 0.4912 - val_loss: 2.2861 - val_accuracy: 0.5152\n",
      "Epoch 17/30\n",
      "20/20 [==============================] - 1s 29ms/step - loss: 2.0987 - accuracy: 0.5018 - val_loss: 2.2653 - val_accuracy: 0.5136\n",
      "Epoch 18/30\n",
      "20/20 [==============================] - 1s 29ms/step - loss: 2.0664 - accuracy: 0.5064 - val_loss: 2.2519 - val_accuracy: 0.5216\n",
      "Epoch 19/30\n",
      "20/20 [==============================] - 1s 29ms/step - loss: 1.9996 - accuracy: 0.5183 - val_loss: 2.2253 - val_accuracy: 0.5248\n",
      "Epoch 20/30\n",
      "20/20 [==============================] - 1s 30ms/step - loss: 1.9922 - accuracy: 0.5212 - val_loss: 2.2032 - val_accuracy: 0.5264\n",
      "Epoch 21/30\n",
      "20/20 [==============================] - 1s 30ms/step - loss: 1.9413 - accuracy: 0.5281 - val_loss: 2.2102 - val_accuracy: 0.5200\n",
      "Epoch 22/30\n",
      "20/20 [==============================] - 1s 30ms/step - loss: 1.9706 - accuracy: 0.5228 - val_loss: 2.2072 - val_accuracy: 0.5216\n",
      "Epoch 23/30\n",
      "20/20 [==============================] - 1s 31ms/step - loss: 1.9194 - accuracy: 0.5363 - val_loss: 2.1880 - val_accuracy: 0.5360\n",
      "Epoch 24/30\n",
      "20/20 [==============================] - 1s 29ms/step - loss: 1.8852 - accuracy: 0.5379 - val_loss: 2.1820 - val_accuracy: 0.5296\n",
      "Epoch 25/30\n",
      "20/20 [==============================] - 1s 29ms/step - loss: 1.8834 - accuracy: 0.5369 - val_loss: 2.1790 - val_accuracy: 0.5344\n",
      "Epoch 26/30\n",
      "20/20 [==============================] - 1s 29ms/step - loss: 1.8801 - accuracy: 0.5302 - val_loss: 2.1730 - val_accuracy: 0.5376\n",
      "Epoch 27/30\n",
      "20/20 [==============================] - 1s 29ms/step - loss: 1.7955 - accuracy: 0.5551 - val_loss: 2.1616 - val_accuracy: 0.5312\n",
      "Epoch 28/30\n",
      "20/20 [==============================] - 1s 30ms/step - loss: 1.7906 - accuracy: 0.5665 - val_loss: 2.1701 - val_accuracy: 0.5280\n",
      "Epoch 29/30\n",
      "20/20 [==============================] - 1s 29ms/step - loss: 1.7913 - accuracy: 0.5531 - val_loss: 2.1663 - val_accuracy: 0.5312\n",
      "Epoch 30/30\n",
      "20/20 [==============================] - 1s 30ms/step - loss: 1.7602 - accuracy: 0.5676 - val_loss: 2.1439 - val_accuracy: 0.5344\n"
     ]
    },
    {
     "output_type": "execute_result",
     "data": {
      "text/plain": [
       "<tensorflow.python.keras.callbacks.History at 0x17bbfe4a790>"
      ]
     },
     "metadata": {},
     "execution_count": 7
    }
   ],
   "source": [
    "model.fit(X,y, epochs=30, batch_size=128, validation_split=0.2)"
   ]
  },
  {
   "cell_type": "code",
   "execution_count": 9,
   "metadata": {
    "colab": {
     "base_uri": "https://localhost:8080/"
    },
    "id": "mwrdWa7EpXYU",
    "outputId": "e0cebaf0-520f-49d0-8259-d48304f39f6c"
   },
   "outputs": [
    {
     "output_type": "execute_result",
     "data": {
      "text/plain": [
       "TensorShape([782, 600, 6])"
      ]
     },
     "metadata": {},
     "execution_count": 9
    }
   ],
   "source": [
    "test_X=tf.reshape(np.array(test.iloc[:,2:]),[-1, 600, 7])\n",
    "test_X.shape"
   ]
  },
  {
   "cell_type": "code",
   "execution_count": 10,
   "metadata": {
    "id": "XYoiWIgCqa9B"
   },
   "outputs": [
    {
     "output_type": "error",
     "ename": "ValueError",
     "evalue": "in user code:\n\n    C:\\Users\\buleb\\AppData\\Local\\Programs\\Python\\Python38\\lib\\site-packages\\tensorflow\\python\\keras\\engine\\training.py:1478 predict_function  *\n        return step_function(self, iterator)\n    C:\\Users\\buleb\\AppData\\Local\\Programs\\Python\\Python38\\lib\\site-packages\\tensorflow\\python\\keras\\engine\\training.py:1468 step_function  **\n        outputs = model.distribute_strategy.run(run_step, args=(data,))\n    C:\\Users\\buleb\\AppData\\Local\\Programs\\Python\\Python38\\lib\\site-packages\\tensorflow\\python\\distribute\\distribute_lib.py:1259 run\n        return self._extended.call_for_each_replica(fn, args=args, kwargs=kwargs)\n    C:\\Users\\buleb\\AppData\\Local\\Programs\\Python\\Python38\\lib\\site-packages\\tensorflow\\python\\distribute\\distribute_lib.py:2730 call_for_each_replica\n        return self._call_for_each_replica(fn, args, kwargs)\n    C:\\Users\\buleb\\AppData\\Local\\Programs\\Python\\Python38\\lib\\site-packages\\tensorflow\\python\\distribute\\distribute_lib.py:3417 _call_for_each_replica\n        return fn(*args, **kwargs)\n    C:\\Users\\buleb\\AppData\\Local\\Programs\\Python\\Python38\\lib\\site-packages\\tensorflow\\python\\keras\\engine\\training.py:1461 run_step  **\n        outputs = model.predict_step(data)\n    C:\\Users\\buleb\\AppData\\Local\\Programs\\Python\\Python38\\lib\\site-packages\\tensorflow\\python\\keras\\engine\\training.py:1434 predict_step\n        return self(x, training=False)\n    C:\\Users\\buleb\\AppData\\Local\\Programs\\Python\\Python38\\lib\\site-packages\\tensorflow\\python\\keras\\engine\\base_layer.py:998 __call__\n        input_spec.assert_input_compatibility(self.input_spec, inputs, self.name)\n    C:\\Users\\buleb\\AppData\\Local\\Programs\\Python\\Python38\\lib\\site-packages\\tensorflow\\python\\keras\\engine\\input_spec.py:271 assert_input_compatibility\n        raise ValueError('Input ' + str(input_index) +\n\n    ValueError: Input 0 is incompatible with layer sequential: expected shape=(None, None, 7), found shape=(None, 600, 6)\n",
     "traceback": [
      "\u001b[1;31m---------------------------------------------------------------------------\u001b[0m",
      "\u001b[1;31mValueError\u001b[0m                                Traceback (most recent call last)",
      "\u001b[1;32m<ipython-input-10-5ce61dda72c4>\u001b[0m in \u001b[0;36m<module>\u001b[1;34m\u001b[0m\n\u001b[1;32m----> 1\u001b[1;33m \u001b[0mprediction\u001b[0m\u001b[1;33m=\u001b[0m\u001b[0mmodel\u001b[0m\u001b[1;33m.\u001b[0m\u001b[0mpredict\u001b[0m\u001b[1;33m(\u001b[0m\u001b[0mtest_X\u001b[0m\u001b[1;33m)\u001b[0m\u001b[1;33m\u001b[0m\u001b[1;33m\u001b[0m\u001b[0m\n\u001b[0m",
      "\u001b[1;32m~\\AppData\\Local\\Programs\\Python\\Python38\\lib\\site-packages\\tensorflow\\python\\keras\\engine\\training.py\u001b[0m in \u001b[0;36mpredict\u001b[1;34m(self, x, batch_size, verbose, steps, callbacks, max_queue_size, workers, use_multiprocessing)\u001b[0m\n\u001b[0;32m   1627\u001b[0m           \u001b[1;32mfor\u001b[0m \u001b[0mstep\u001b[0m \u001b[1;32min\u001b[0m \u001b[0mdata_handler\u001b[0m\u001b[1;33m.\u001b[0m\u001b[0msteps\u001b[0m\u001b[1;33m(\u001b[0m\u001b[1;33m)\u001b[0m\u001b[1;33m:\u001b[0m\u001b[1;33m\u001b[0m\u001b[1;33m\u001b[0m\u001b[0m\n\u001b[0;32m   1628\u001b[0m             \u001b[0mcallbacks\u001b[0m\u001b[1;33m.\u001b[0m\u001b[0mon_predict_batch_begin\u001b[0m\u001b[1;33m(\u001b[0m\u001b[0mstep\u001b[0m\u001b[1;33m)\u001b[0m\u001b[1;33m\u001b[0m\u001b[1;33m\u001b[0m\u001b[0m\n\u001b[1;32m-> 1629\u001b[1;33m             \u001b[0mtmp_batch_outputs\u001b[0m \u001b[1;33m=\u001b[0m \u001b[0mself\u001b[0m\u001b[1;33m.\u001b[0m\u001b[0mpredict_function\u001b[0m\u001b[1;33m(\u001b[0m\u001b[0miterator\u001b[0m\u001b[1;33m)\u001b[0m\u001b[1;33m\u001b[0m\u001b[1;33m\u001b[0m\u001b[0m\n\u001b[0m\u001b[0;32m   1630\u001b[0m             \u001b[1;32mif\u001b[0m \u001b[0mdata_handler\u001b[0m\u001b[1;33m.\u001b[0m\u001b[0mshould_sync\u001b[0m\u001b[1;33m:\u001b[0m\u001b[1;33m\u001b[0m\u001b[1;33m\u001b[0m\u001b[0m\n\u001b[0;32m   1631\u001b[0m               \u001b[0mcontext\u001b[0m\u001b[1;33m.\u001b[0m\u001b[0masync_wait\u001b[0m\u001b[1;33m(\u001b[0m\u001b[1;33m)\u001b[0m\u001b[1;33m\u001b[0m\u001b[1;33m\u001b[0m\u001b[0m\n",
      "\u001b[1;32m~\\AppData\\Local\\Programs\\Python\\Python38\\lib\\site-packages\\tensorflow\\python\\eager\\def_function.py\u001b[0m in \u001b[0;36m__call__\u001b[1;34m(self, *args, **kwds)\u001b[0m\n\u001b[0;32m    826\u001b[0m     \u001b[0mtracing_count\u001b[0m \u001b[1;33m=\u001b[0m \u001b[0mself\u001b[0m\u001b[1;33m.\u001b[0m\u001b[0mexperimental_get_tracing_count\u001b[0m\u001b[1;33m(\u001b[0m\u001b[1;33m)\u001b[0m\u001b[1;33m\u001b[0m\u001b[1;33m\u001b[0m\u001b[0m\n\u001b[0;32m    827\u001b[0m     \u001b[1;32mwith\u001b[0m \u001b[0mtrace\u001b[0m\u001b[1;33m.\u001b[0m\u001b[0mTrace\u001b[0m\u001b[1;33m(\u001b[0m\u001b[0mself\u001b[0m\u001b[1;33m.\u001b[0m\u001b[0m_name\u001b[0m\u001b[1;33m)\u001b[0m \u001b[1;32mas\u001b[0m \u001b[0mtm\u001b[0m\u001b[1;33m:\u001b[0m\u001b[1;33m\u001b[0m\u001b[1;33m\u001b[0m\u001b[0m\n\u001b[1;32m--> 828\u001b[1;33m       \u001b[0mresult\u001b[0m \u001b[1;33m=\u001b[0m \u001b[0mself\u001b[0m\u001b[1;33m.\u001b[0m\u001b[0m_call\u001b[0m\u001b[1;33m(\u001b[0m\u001b[1;33m*\u001b[0m\u001b[0margs\u001b[0m\u001b[1;33m,\u001b[0m \u001b[1;33m**\u001b[0m\u001b[0mkwds\u001b[0m\u001b[1;33m)\u001b[0m\u001b[1;33m\u001b[0m\u001b[1;33m\u001b[0m\u001b[0m\n\u001b[0m\u001b[0;32m    829\u001b[0m       \u001b[0mcompiler\u001b[0m \u001b[1;33m=\u001b[0m \u001b[1;34m\"xla\"\u001b[0m \u001b[1;32mif\u001b[0m \u001b[0mself\u001b[0m\u001b[1;33m.\u001b[0m\u001b[0m_experimental_compile\u001b[0m \u001b[1;32melse\u001b[0m \u001b[1;34m\"nonXla\"\u001b[0m\u001b[1;33m\u001b[0m\u001b[1;33m\u001b[0m\u001b[0m\n\u001b[0;32m    830\u001b[0m       \u001b[0mnew_tracing_count\u001b[0m \u001b[1;33m=\u001b[0m \u001b[0mself\u001b[0m\u001b[1;33m.\u001b[0m\u001b[0mexperimental_get_tracing_count\u001b[0m\u001b[1;33m(\u001b[0m\u001b[1;33m)\u001b[0m\u001b[1;33m\u001b[0m\u001b[1;33m\u001b[0m\u001b[0m\n",
      "\u001b[1;32m~\\AppData\\Local\\Programs\\Python\\Python38\\lib\\site-packages\\tensorflow\\python\\eager\\def_function.py\u001b[0m in \u001b[0;36m_call\u001b[1;34m(self, *args, **kwds)\u001b[0m\n\u001b[0;32m    869\u001b[0m       \u001b[1;31m# This is the first call of __call__, so we have to initialize.\u001b[0m\u001b[1;33m\u001b[0m\u001b[1;33m\u001b[0m\u001b[1;33m\u001b[0m\u001b[0m\n\u001b[0;32m    870\u001b[0m       \u001b[0minitializers\u001b[0m \u001b[1;33m=\u001b[0m \u001b[1;33m[\u001b[0m\u001b[1;33m]\u001b[0m\u001b[1;33m\u001b[0m\u001b[1;33m\u001b[0m\u001b[0m\n\u001b[1;32m--> 871\u001b[1;33m       \u001b[0mself\u001b[0m\u001b[1;33m.\u001b[0m\u001b[0m_initialize\u001b[0m\u001b[1;33m(\u001b[0m\u001b[0margs\u001b[0m\u001b[1;33m,\u001b[0m \u001b[0mkwds\u001b[0m\u001b[1;33m,\u001b[0m \u001b[0madd_initializers_to\u001b[0m\u001b[1;33m=\u001b[0m\u001b[0minitializers\u001b[0m\u001b[1;33m)\u001b[0m\u001b[1;33m\u001b[0m\u001b[1;33m\u001b[0m\u001b[0m\n\u001b[0m\u001b[0;32m    872\u001b[0m     \u001b[1;32mfinally\u001b[0m\u001b[1;33m:\u001b[0m\u001b[1;33m\u001b[0m\u001b[1;33m\u001b[0m\u001b[0m\n\u001b[0;32m    873\u001b[0m       \u001b[1;31m# At this point we know that the initialization is complete (or less\u001b[0m\u001b[1;33m\u001b[0m\u001b[1;33m\u001b[0m\u001b[1;33m\u001b[0m\u001b[0m\n",
      "\u001b[1;32m~\\AppData\\Local\\Programs\\Python\\Python38\\lib\\site-packages\\tensorflow\\python\\eager\\def_function.py\u001b[0m in \u001b[0;36m_initialize\u001b[1;34m(self, args, kwds, add_initializers_to)\u001b[0m\n\u001b[0;32m    723\u001b[0m     \u001b[0mself\u001b[0m\u001b[1;33m.\u001b[0m\u001b[0m_graph_deleter\u001b[0m \u001b[1;33m=\u001b[0m \u001b[0mFunctionDeleter\u001b[0m\u001b[1;33m(\u001b[0m\u001b[0mself\u001b[0m\u001b[1;33m.\u001b[0m\u001b[0m_lifted_initializer_graph\u001b[0m\u001b[1;33m)\u001b[0m\u001b[1;33m\u001b[0m\u001b[1;33m\u001b[0m\u001b[0m\n\u001b[0;32m    724\u001b[0m     self._concrete_stateful_fn = (\n\u001b[1;32m--> 725\u001b[1;33m         self._stateful_fn._get_concrete_function_internal_garbage_collected(  # pylint: disable=protected-access\n\u001b[0m\u001b[0;32m    726\u001b[0m             *args, **kwds))\n\u001b[0;32m    727\u001b[0m \u001b[1;33m\u001b[0m\u001b[0m\n",
      "\u001b[1;32m~\\AppData\\Local\\Programs\\Python\\Python38\\lib\\site-packages\\tensorflow\\python\\eager\\function.py\u001b[0m in \u001b[0;36m_get_concrete_function_internal_garbage_collected\u001b[1;34m(self, *args, **kwargs)\u001b[0m\n\u001b[0;32m   2967\u001b[0m       \u001b[0margs\u001b[0m\u001b[1;33m,\u001b[0m \u001b[0mkwargs\u001b[0m \u001b[1;33m=\u001b[0m \u001b[1;32mNone\u001b[0m\u001b[1;33m,\u001b[0m \u001b[1;32mNone\u001b[0m\u001b[1;33m\u001b[0m\u001b[1;33m\u001b[0m\u001b[0m\n\u001b[0;32m   2968\u001b[0m     \u001b[1;32mwith\u001b[0m \u001b[0mself\u001b[0m\u001b[1;33m.\u001b[0m\u001b[0m_lock\u001b[0m\u001b[1;33m:\u001b[0m\u001b[1;33m\u001b[0m\u001b[1;33m\u001b[0m\u001b[0m\n\u001b[1;32m-> 2969\u001b[1;33m       \u001b[0mgraph_function\u001b[0m\u001b[1;33m,\u001b[0m \u001b[0m_\u001b[0m \u001b[1;33m=\u001b[0m \u001b[0mself\u001b[0m\u001b[1;33m.\u001b[0m\u001b[0m_maybe_define_function\u001b[0m\u001b[1;33m(\u001b[0m\u001b[0margs\u001b[0m\u001b[1;33m,\u001b[0m \u001b[0mkwargs\u001b[0m\u001b[1;33m)\u001b[0m\u001b[1;33m\u001b[0m\u001b[1;33m\u001b[0m\u001b[0m\n\u001b[0m\u001b[0;32m   2970\u001b[0m     \u001b[1;32mreturn\u001b[0m \u001b[0mgraph_function\u001b[0m\u001b[1;33m\u001b[0m\u001b[1;33m\u001b[0m\u001b[0m\n\u001b[0;32m   2971\u001b[0m \u001b[1;33m\u001b[0m\u001b[0m\n",
      "\u001b[1;32m~\\AppData\\Local\\Programs\\Python\\Python38\\lib\\site-packages\\tensorflow\\python\\eager\\function.py\u001b[0m in \u001b[0;36m_maybe_define_function\u001b[1;34m(self, args, kwargs)\u001b[0m\n\u001b[0;32m   3359\u001b[0m \u001b[1;33m\u001b[0m\u001b[0m\n\u001b[0;32m   3360\u001b[0m           \u001b[0mself\u001b[0m\u001b[1;33m.\u001b[0m\u001b[0m_function_cache\u001b[0m\u001b[1;33m.\u001b[0m\u001b[0mmissed\u001b[0m\u001b[1;33m.\u001b[0m\u001b[0madd\u001b[0m\u001b[1;33m(\u001b[0m\u001b[0mcall_context_key\u001b[0m\u001b[1;33m)\u001b[0m\u001b[1;33m\u001b[0m\u001b[1;33m\u001b[0m\u001b[0m\n\u001b[1;32m-> 3361\u001b[1;33m           \u001b[0mgraph_function\u001b[0m \u001b[1;33m=\u001b[0m \u001b[0mself\u001b[0m\u001b[1;33m.\u001b[0m\u001b[0m_create_graph_function\u001b[0m\u001b[1;33m(\u001b[0m\u001b[0margs\u001b[0m\u001b[1;33m,\u001b[0m \u001b[0mkwargs\u001b[0m\u001b[1;33m)\u001b[0m\u001b[1;33m\u001b[0m\u001b[1;33m\u001b[0m\u001b[0m\n\u001b[0m\u001b[0;32m   3362\u001b[0m           \u001b[0mself\u001b[0m\u001b[1;33m.\u001b[0m\u001b[0m_function_cache\u001b[0m\u001b[1;33m.\u001b[0m\u001b[0mprimary\u001b[0m\u001b[1;33m[\u001b[0m\u001b[0mcache_key\u001b[0m\u001b[1;33m]\u001b[0m \u001b[1;33m=\u001b[0m \u001b[0mgraph_function\u001b[0m\u001b[1;33m\u001b[0m\u001b[1;33m\u001b[0m\u001b[0m\n\u001b[0;32m   3363\u001b[0m \u001b[1;33m\u001b[0m\u001b[0m\n",
      "\u001b[1;32m~\\AppData\\Local\\Programs\\Python\\Python38\\lib\\site-packages\\tensorflow\\python\\eager\\function.py\u001b[0m in \u001b[0;36m_create_graph_function\u001b[1;34m(self, args, kwargs, override_flat_arg_shapes)\u001b[0m\n\u001b[0;32m   3194\u001b[0m     \u001b[0marg_names\u001b[0m \u001b[1;33m=\u001b[0m \u001b[0mbase_arg_names\u001b[0m \u001b[1;33m+\u001b[0m \u001b[0mmissing_arg_names\u001b[0m\u001b[1;33m\u001b[0m\u001b[1;33m\u001b[0m\u001b[0m\n\u001b[0;32m   3195\u001b[0m     graph_function = ConcreteFunction(\n\u001b[1;32m-> 3196\u001b[1;33m         func_graph_module.func_graph_from_py_func(\n\u001b[0m\u001b[0;32m   3197\u001b[0m             \u001b[0mself\u001b[0m\u001b[1;33m.\u001b[0m\u001b[0m_name\u001b[0m\u001b[1;33m,\u001b[0m\u001b[1;33m\u001b[0m\u001b[1;33m\u001b[0m\u001b[0m\n\u001b[0;32m   3198\u001b[0m             \u001b[0mself\u001b[0m\u001b[1;33m.\u001b[0m\u001b[0m_python_function\u001b[0m\u001b[1;33m,\u001b[0m\u001b[1;33m\u001b[0m\u001b[1;33m\u001b[0m\u001b[0m\n",
      "\u001b[1;32m~\\AppData\\Local\\Programs\\Python\\Python38\\lib\\site-packages\\tensorflow\\python\\framework\\func_graph.py\u001b[0m in \u001b[0;36mfunc_graph_from_py_func\u001b[1;34m(name, python_func, args, kwargs, signature, func_graph, autograph, autograph_options, add_control_dependencies, arg_names, op_return_value, collections, capture_by_value, override_flat_arg_shapes)\u001b[0m\n\u001b[0;32m    988\u001b[0m         \u001b[0m_\u001b[0m\u001b[1;33m,\u001b[0m \u001b[0moriginal_func\u001b[0m \u001b[1;33m=\u001b[0m \u001b[0mtf_decorator\u001b[0m\u001b[1;33m.\u001b[0m\u001b[0munwrap\u001b[0m\u001b[1;33m(\u001b[0m\u001b[0mpython_func\u001b[0m\u001b[1;33m)\u001b[0m\u001b[1;33m\u001b[0m\u001b[1;33m\u001b[0m\u001b[0m\n\u001b[0;32m    989\u001b[0m \u001b[1;33m\u001b[0m\u001b[0m\n\u001b[1;32m--> 990\u001b[1;33m       \u001b[0mfunc_outputs\u001b[0m \u001b[1;33m=\u001b[0m \u001b[0mpython_func\u001b[0m\u001b[1;33m(\u001b[0m\u001b[1;33m*\u001b[0m\u001b[0mfunc_args\u001b[0m\u001b[1;33m,\u001b[0m \u001b[1;33m**\u001b[0m\u001b[0mfunc_kwargs\u001b[0m\u001b[1;33m)\u001b[0m\u001b[1;33m\u001b[0m\u001b[1;33m\u001b[0m\u001b[0m\n\u001b[0m\u001b[0;32m    991\u001b[0m \u001b[1;33m\u001b[0m\u001b[0m\n\u001b[0;32m    992\u001b[0m       \u001b[1;31m# invariant: `func_outputs` contains only Tensors, CompositeTensors,\u001b[0m\u001b[1;33m\u001b[0m\u001b[1;33m\u001b[0m\u001b[1;33m\u001b[0m\u001b[0m\n",
      "\u001b[1;32m~\\AppData\\Local\\Programs\\Python\\Python38\\lib\\site-packages\\tensorflow\\python\\eager\\def_function.py\u001b[0m in \u001b[0;36mwrapped_fn\u001b[1;34m(*args, **kwds)\u001b[0m\n\u001b[0;32m    632\u001b[0m             \u001b[0mxla_context\u001b[0m\u001b[1;33m.\u001b[0m\u001b[0mExit\u001b[0m\u001b[1;33m(\u001b[0m\u001b[1;33m)\u001b[0m\u001b[1;33m\u001b[0m\u001b[1;33m\u001b[0m\u001b[0m\n\u001b[0;32m    633\u001b[0m         \u001b[1;32melse\u001b[0m\u001b[1;33m:\u001b[0m\u001b[1;33m\u001b[0m\u001b[1;33m\u001b[0m\u001b[0m\n\u001b[1;32m--> 634\u001b[1;33m           \u001b[0mout\u001b[0m \u001b[1;33m=\u001b[0m \u001b[0mweak_wrapped_fn\u001b[0m\u001b[1;33m(\u001b[0m\u001b[1;33m)\u001b[0m\u001b[1;33m.\u001b[0m\u001b[0m__wrapped__\u001b[0m\u001b[1;33m(\u001b[0m\u001b[1;33m*\u001b[0m\u001b[0margs\u001b[0m\u001b[1;33m,\u001b[0m \u001b[1;33m**\u001b[0m\u001b[0mkwds\u001b[0m\u001b[1;33m)\u001b[0m\u001b[1;33m\u001b[0m\u001b[1;33m\u001b[0m\u001b[0m\n\u001b[0m\u001b[0;32m    635\u001b[0m         \u001b[1;32mreturn\u001b[0m \u001b[0mout\u001b[0m\u001b[1;33m\u001b[0m\u001b[1;33m\u001b[0m\u001b[0m\n\u001b[0;32m    636\u001b[0m \u001b[1;33m\u001b[0m\u001b[0m\n",
      "\u001b[1;32m~\\AppData\\Local\\Programs\\Python\\Python38\\lib\\site-packages\\tensorflow\\python\\framework\\func_graph.py\u001b[0m in \u001b[0;36mwrapper\u001b[1;34m(*args, **kwargs)\u001b[0m\n\u001b[0;32m    975\u001b[0m           \u001b[1;32mexcept\u001b[0m \u001b[0mException\u001b[0m \u001b[1;32mas\u001b[0m \u001b[0me\u001b[0m\u001b[1;33m:\u001b[0m  \u001b[1;31m# pylint:disable=broad-except\u001b[0m\u001b[1;33m\u001b[0m\u001b[1;33m\u001b[0m\u001b[0m\n\u001b[0;32m    976\u001b[0m             \u001b[1;32mif\u001b[0m \u001b[0mhasattr\u001b[0m\u001b[1;33m(\u001b[0m\u001b[0me\u001b[0m\u001b[1;33m,\u001b[0m \u001b[1;34m\"ag_error_metadata\"\u001b[0m\u001b[1;33m)\u001b[0m\u001b[1;33m:\u001b[0m\u001b[1;33m\u001b[0m\u001b[1;33m\u001b[0m\u001b[0m\n\u001b[1;32m--> 977\u001b[1;33m               \u001b[1;32mraise\u001b[0m \u001b[0me\u001b[0m\u001b[1;33m.\u001b[0m\u001b[0mag_error_metadata\u001b[0m\u001b[1;33m.\u001b[0m\u001b[0mto_exception\u001b[0m\u001b[1;33m(\u001b[0m\u001b[0me\u001b[0m\u001b[1;33m)\u001b[0m\u001b[1;33m\u001b[0m\u001b[1;33m\u001b[0m\u001b[0m\n\u001b[0m\u001b[0;32m    978\u001b[0m             \u001b[1;32melse\u001b[0m\u001b[1;33m:\u001b[0m\u001b[1;33m\u001b[0m\u001b[1;33m\u001b[0m\u001b[0m\n\u001b[0;32m    979\u001b[0m               \u001b[1;32mraise\u001b[0m\u001b[1;33m\u001b[0m\u001b[1;33m\u001b[0m\u001b[0m\n",
      "\u001b[1;31mValueError\u001b[0m: in user code:\n\n    C:\\Users\\buleb\\AppData\\Local\\Programs\\Python\\Python38\\lib\\site-packages\\tensorflow\\python\\keras\\engine\\training.py:1478 predict_function  *\n        return step_function(self, iterator)\n    C:\\Users\\buleb\\AppData\\Local\\Programs\\Python\\Python38\\lib\\site-packages\\tensorflow\\python\\keras\\engine\\training.py:1468 step_function  **\n        outputs = model.distribute_strategy.run(run_step, args=(data,))\n    C:\\Users\\buleb\\AppData\\Local\\Programs\\Python\\Python38\\lib\\site-packages\\tensorflow\\python\\distribute\\distribute_lib.py:1259 run\n        return self._extended.call_for_each_replica(fn, args=args, kwargs=kwargs)\n    C:\\Users\\buleb\\AppData\\Local\\Programs\\Python\\Python38\\lib\\site-packages\\tensorflow\\python\\distribute\\distribute_lib.py:2730 call_for_each_replica\n        return self._call_for_each_replica(fn, args, kwargs)\n    C:\\Users\\buleb\\AppData\\Local\\Programs\\Python\\Python38\\lib\\site-packages\\tensorflow\\python\\distribute\\distribute_lib.py:3417 _call_for_each_replica\n        return fn(*args, **kwargs)\n    C:\\Users\\buleb\\AppData\\Local\\Programs\\Python\\Python38\\lib\\site-packages\\tensorflow\\python\\keras\\engine\\training.py:1461 run_step  **\n        outputs = model.predict_step(data)\n    C:\\Users\\buleb\\AppData\\Local\\Programs\\Python\\Python38\\lib\\site-packages\\tensorflow\\python\\keras\\engine\\training.py:1434 predict_step\n        return self(x, training=False)\n    C:\\Users\\buleb\\AppData\\Local\\Programs\\Python\\Python38\\lib\\site-packages\\tensorflow\\python\\keras\\engine\\base_layer.py:998 __call__\n        input_spec.assert_input_compatibility(self.input_spec, inputs, self.name)\n    C:\\Users\\buleb\\AppData\\Local\\Programs\\Python\\Python38\\lib\\site-packages\\tensorflow\\python\\keras\\engine\\input_spec.py:271 assert_input_compatibility\n        raise ValueError('Input ' + str(input_index) +\n\n    ValueError: Input 0 is incompatible with layer sequential: expected shape=(None, None, 7), found shape=(None, 600, 6)\n"
     ]
    }
   ],
   "source": [
    "prediction=model.predict(test_X)"
   ]
  },
  {
   "cell_type": "code",
   "execution_count": 26,
   "metadata": {
    "colab": {
     "base_uri": "https://localhost:8080/"
    },
    "id": "I3RSyjwBqpYv",
    "outputId": "1cd484f5-4801-4243-b9d0-9a4aa0416188"
   },
   "outputs": [
    {
     "output_type": "execute_result",
     "data": {
      "text/plain": [
       "(782, 61)"
      ]
     },
     "metadata": {},
     "execution_count": 26
    }
   ],
   "source": [
    "prediction.shape"
   ]
  },
  {
   "cell_type": "code",
   "execution_count": 27,
   "metadata": {
    "colab": {
     "base_uri": "https://localhost:8080/",
     "height": 411
    },
    "id": "Zsii9aR_qtWA",
    "outputId": "3047ef1e-c0d8-494c-88f9-b5ad50de0060"
   },
   "outputs": [
    {
     "output_type": "execute_result",
     "data": {
      "text/plain": [
       "       id  0  1  2  3  4  5  6  7  8  ...  51  52  53  54  55  56  57  58  59  \\\n",
       "0    3125  0  0  0  0  0  0  0  0  0  ...   0   0   0   0   0   0   0   0   0   \n",
       "1    3126  0  0  0  0  0  0  0  0  0  ...   0   0   0   0   0   0   0   0   0   \n",
       "2    3127  0  0  0  0  0  0  0  0  0  ...   0   0   0   0   0   0   0   0   0   \n",
       "3    3128  0  0  0  0  0  0  0  0  0  ...   0   0   0   0   0   0   0   0   0   \n",
       "4    3129  0  0  0  0  0  0  0  0  0  ...   0   0   0   0   0   0   0   0   0   \n",
       "..    ... .. .. .. .. .. .. .. .. ..  ...  ..  ..  ..  ..  ..  ..  ..  ..  ..   \n",
       "777  3902  0  0  0  0  0  0  0  0  0  ...   0   0   0   0   0   0   0   0   0   \n",
       "778  3903  0  0  0  0  0  0  0  0  0  ...   0   0   0   0   0   0   0   0   0   \n",
       "779  3904  0  0  0  0  0  0  0  0  0  ...   0   0   0   0   0   0   0   0   0   \n",
       "780  3905  0  0  0  0  0  0  0  0  0  ...   0   0   0   0   0   0   0   0   0   \n",
       "781  3906  0  0  0  0  0  0  0  0  0  ...   0   0   0   0   0   0   0   0   0   \n",
       "\n",
       "     60  \n",
       "0     0  \n",
       "1     0  \n",
       "2     0  \n",
       "3     0  \n",
       "4     0  \n",
       "..   ..  \n",
       "777   0  \n",
       "778   0  \n",
       "779   0  \n",
       "780   0  \n",
       "781   0  \n",
       "\n",
       "[782 rows x 62 columns]"
      ],
      "text/html": "<div>\n<style scoped>\n    .dataframe tbody tr th:only-of-type {\n        vertical-align: middle;\n    }\n\n    .dataframe tbody tr th {\n        vertical-align: top;\n    }\n\n    .dataframe thead th {\n        text-align: right;\n    }\n</style>\n<table border=\"1\" class=\"dataframe\">\n  <thead>\n    <tr style=\"text-align: right;\">\n      <th></th>\n      <th>id</th>\n      <th>0</th>\n      <th>1</th>\n      <th>2</th>\n      <th>3</th>\n      <th>4</th>\n      <th>5</th>\n      <th>6</th>\n      <th>7</th>\n      <th>8</th>\n      <th>...</th>\n      <th>51</th>\n      <th>52</th>\n      <th>53</th>\n      <th>54</th>\n      <th>55</th>\n      <th>56</th>\n      <th>57</th>\n      <th>58</th>\n      <th>59</th>\n      <th>60</th>\n    </tr>\n  </thead>\n  <tbody>\n    <tr>\n      <th>0</th>\n      <td>3125</td>\n      <td>0</td>\n      <td>0</td>\n      <td>0</td>\n      <td>0</td>\n      <td>0</td>\n      <td>0</td>\n      <td>0</td>\n      <td>0</td>\n      <td>0</td>\n      <td>...</td>\n      <td>0</td>\n      <td>0</td>\n      <td>0</td>\n      <td>0</td>\n      <td>0</td>\n      <td>0</td>\n      <td>0</td>\n      <td>0</td>\n      <td>0</td>\n      <td>0</td>\n    </tr>\n    <tr>\n      <th>1</th>\n      <td>3126</td>\n      <td>0</td>\n      <td>0</td>\n      <td>0</td>\n      <td>0</td>\n      <td>0</td>\n      <td>0</td>\n      <td>0</td>\n      <td>0</td>\n      <td>0</td>\n      <td>...</td>\n      <td>0</td>\n      <td>0</td>\n      <td>0</td>\n      <td>0</td>\n      <td>0</td>\n      <td>0</td>\n      <td>0</td>\n      <td>0</td>\n      <td>0</td>\n      <td>0</td>\n    </tr>\n    <tr>\n      <th>2</th>\n      <td>3127</td>\n      <td>0</td>\n      <td>0</td>\n      <td>0</td>\n      <td>0</td>\n      <td>0</td>\n      <td>0</td>\n      <td>0</td>\n      <td>0</td>\n      <td>0</td>\n      <td>...</td>\n      <td>0</td>\n      <td>0</td>\n      <td>0</td>\n      <td>0</td>\n      <td>0</td>\n      <td>0</td>\n      <td>0</td>\n      <td>0</td>\n      <td>0</td>\n      <td>0</td>\n    </tr>\n    <tr>\n      <th>3</th>\n      <td>3128</td>\n      <td>0</td>\n      <td>0</td>\n      <td>0</td>\n      <td>0</td>\n      <td>0</td>\n      <td>0</td>\n      <td>0</td>\n      <td>0</td>\n      <td>0</td>\n      <td>...</td>\n      <td>0</td>\n      <td>0</td>\n      <td>0</td>\n      <td>0</td>\n      <td>0</td>\n      <td>0</td>\n      <td>0</td>\n      <td>0</td>\n      <td>0</td>\n      <td>0</td>\n    </tr>\n    <tr>\n      <th>4</th>\n      <td>3129</td>\n      <td>0</td>\n      <td>0</td>\n      <td>0</td>\n      <td>0</td>\n      <td>0</td>\n      <td>0</td>\n      <td>0</td>\n      <td>0</td>\n      <td>0</td>\n      <td>...</td>\n      <td>0</td>\n      <td>0</td>\n      <td>0</td>\n      <td>0</td>\n      <td>0</td>\n      <td>0</td>\n      <td>0</td>\n      <td>0</td>\n      <td>0</td>\n      <td>0</td>\n    </tr>\n    <tr>\n      <th>...</th>\n      <td>...</td>\n      <td>...</td>\n      <td>...</td>\n      <td>...</td>\n      <td>...</td>\n      <td>...</td>\n      <td>...</td>\n      <td>...</td>\n      <td>...</td>\n      <td>...</td>\n      <td>...</td>\n      <td>...</td>\n      <td>...</td>\n      <td>...</td>\n      <td>...</td>\n      <td>...</td>\n      <td>...</td>\n      <td>...</td>\n      <td>...</td>\n      <td>...</td>\n      <td>...</td>\n    </tr>\n    <tr>\n      <th>777</th>\n      <td>3902</td>\n      <td>0</td>\n      <td>0</td>\n      <td>0</td>\n      <td>0</td>\n      <td>0</td>\n      <td>0</td>\n      <td>0</td>\n      <td>0</td>\n      <td>0</td>\n      <td>...</td>\n      <td>0</td>\n      <td>0</td>\n      <td>0</td>\n      <td>0</td>\n      <td>0</td>\n      <td>0</td>\n      <td>0</td>\n      <td>0</td>\n      <td>0</td>\n      <td>0</td>\n    </tr>\n    <tr>\n      <th>778</th>\n      <td>3903</td>\n      <td>0</td>\n      <td>0</td>\n      <td>0</td>\n      <td>0</td>\n      <td>0</td>\n      <td>0</td>\n      <td>0</td>\n      <td>0</td>\n      <td>0</td>\n      <td>...</td>\n      <td>0</td>\n      <td>0</td>\n      <td>0</td>\n      <td>0</td>\n      <td>0</td>\n      <td>0</td>\n      <td>0</td>\n      <td>0</td>\n      <td>0</td>\n      <td>0</td>\n    </tr>\n    <tr>\n      <th>779</th>\n      <td>3904</td>\n      <td>0</td>\n      <td>0</td>\n      <td>0</td>\n      <td>0</td>\n      <td>0</td>\n      <td>0</td>\n      <td>0</td>\n      <td>0</td>\n      <td>0</td>\n      <td>...</td>\n      <td>0</td>\n      <td>0</td>\n      <td>0</td>\n      <td>0</td>\n      <td>0</td>\n      <td>0</td>\n      <td>0</td>\n      <td>0</td>\n      <td>0</td>\n      <td>0</td>\n    </tr>\n    <tr>\n      <th>780</th>\n      <td>3905</td>\n      <td>0</td>\n      <td>0</td>\n      <td>0</td>\n      <td>0</td>\n      <td>0</td>\n      <td>0</td>\n      <td>0</td>\n      <td>0</td>\n      <td>0</td>\n      <td>...</td>\n      <td>0</td>\n      <td>0</td>\n      <td>0</td>\n      <td>0</td>\n      <td>0</td>\n      <td>0</td>\n      <td>0</td>\n      <td>0</td>\n      <td>0</td>\n      <td>0</td>\n    </tr>\n    <tr>\n      <th>781</th>\n      <td>3906</td>\n      <td>0</td>\n      <td>0</td>\n      <td>0</td>\n      <td>0</td>\n      <td>0</td>\n      <td>0</td>\n      <td>0</td>\n      <td>0</td>\n      <td>0</td>\n      <td>...</td>\n      <td>0</td>\n      <td>0</td>\n      <td>0</td>\n      <td>0</td>\n      <td>0</td>\n      <td>0</td>\n      <td>0</td>\n      <td>0</td>\n      <td>0</td>\n      <td>0</td>\n    </tr>\n  </tbody>\n</table>\n<p>782 rows × 62 columns</p>\n</div>"
     },
     "metadata": {},
     "execution_count": 27
    }
   ],
   "source": [
    "submission"
   ]
  },
  {
   "cell_type": "code",
   "execution_count": 28,
   "metadata": {
    "id": "bOCJS5OGqxjN"
   },
   "outputs": [],
   "source": [
    "submission.iloc[:,1:]=prediction"
   ]
  },
  {
   "cell_type": "code",
   "execution_count": 29,
   "metadata": {
    "colab": {
     "base_uri": "https://localhost:8080/",
     "height": 573
    },
    "id": "H-_xI6Gaq33m",
    "outputId": "8a900f26-dfed-4834-8ab5-73bb3e8fadf5"
   },
   "outputs": [
    {
     "output_type": "execute_result",
     "data": {
      "text/plain": [
       "       id         0         1         2         3         4         5  \\\n",
       "0    3125  0.000301  0.003290  0.000369  0.000338  0.015384  0.000580   \n",
       "1    3126  0.000525  0.010528  0.000543  0.001359  0.003105  0.002556   \n",
       "2    3127  0.002067  0.001232  0.000131  0.000051  0.029531  0.003229   \n",
       "3    3128  0.000195  0.007442  0.000289  0.000281  0.003067  0.000305   \n",
       "4    3129  0.000552  0.001173  0.000179  0.000093  0.008247  0.000080   \n",
       "..    ...       ...       ...       ...       ...       ...       ...   \n",
       "777  3902  0.001380  0.000483  0.000283  0.000670  0.003960  0.036610   \n",
       "778  3903  0.005960  0.004659  0.000341  0.000159  0.042721  0.003638   \n",
       "779  3904  0.000203  0.000204  0.000010  0.000003  0.004813  0.004014   \n",
       "780  3905  0.002598  0.017268  0.037058  0.037534  0.007102  0.020979   \n",
       "781  3906  0.001042  0.003537  0.000139  0.000159  0.023014  0.064257   \n",
       "\n",
       "            6         7         8  ...        51        52        53  \\\n",
       "0    0.006409  0.001503  0.000048  ...  0.000179  0.000205  0.000167   \n",
       "1    0.005016  0.022472  0.017300  ...  0.001372  0.000502  0.000550   \n",
       "2    0.003287  0.002732  0.000487  ...  0.003329  0.000501  0.000281   \n",
       "3    0.001921  0.017881  0.011907  ...  0.001529  0.000721  0.000104   \n",
       "4    0.000267  0.000792  0.000029  ...  0.002180  0.000562  0.000029   \n",
       "..        ...       ...       ...  ...       ...       ...       ...   \n",
       "777  0.058447  0.000376  0.000524  ...  0.000610  0.001710  0.003780   \n",
       "778  0.004792  0.026260  0.000690  ...  0.004596  0.001197  0.000886   \n",
       "779  0.002775  0.000650  0.000070  ...  0.000422  0.000079  0.000038   \n",
       "780  0.012106  0.000882  0.000386  ...  0.004275  0.000102  0.009638   \n",
       "781  0.022828  0.002059  0.000520  ...  0.000891  0.000137  0.001370   \n",
       "\n",
       "           54        55        56        57        58        59        60  \n",
       "0    0.001421  0.000473  0.000357  0.003223  0.000174  0.000795  0.000443  \n",
       "1    0.009339  0.000749  0.001575  0.010912  0.002653  0.005687  0.004452  \n",
       "2    0.000564  0.000389  0.002273  0.002984  0.004974  0.001399  0.000795  \n",
       "3    0.000622  0.000217  0.000121  0.004863  0.002204  0.000537  0.010949  \n",
       "4    0.000017  0.000385  0.000069  0.000395  0.004436  0.000084  0.000536  \n",
       "..        ...       ...       ...       ...       ...       ...       ...  \n",
       "777  0.036920  0.006222  0.007019  0.028875  0.000526  0.009594  0.000896  \n",
       "778  0.000221  0.001182  0.004063  0.002688  0.008492  0.009667  0.006438  \n",
       "779  0.002174  0.000058  0.002262  0.003412  0.000320  0.000333  0.000139  \n",
       "780  0.104479  0.051520  0.018730  0.009739  0.003638  0.029044  0.000852  \n",
       "781  0.020221  0.001227  0.088294  0.010363  0.000662  0.005886  0.000546  \n",
       "\n",
       "[782 rows x 62 columns]"
      ],
      "text/html": "<div>\n<style scoped>\n    .dataframe tbody tr th:only-of-type {\n        vertical-align: middle;\n    }\n\n    .dataframe tbody tr th {\n        vertical-align: top;\n    }\n\n    .dataframe thead th {\n        text-align: right;\n    }\n</style>\n<table border=\"1\" class=\"dataframe\">\n  <thead>\n    <tr style=\"text-align: right;\">\n      <th></th>\n      <th>id</th>\n      <th>0</th>\n      <th>1</th>\n      <th>2</th>\n      <th>3</th>\n      <th>4</th>\n      <th>5</th>\n      <th>6</th>\n      <th>7</th>\n      <th>8</th>\n      <th>...</th>\n      <th>51</th>\n      <th>52</th>\n      <th>53</th>\n      <th>54</th>\n      <th>55</th>\n      <th>56</th>\n      <th>57</th>\n      <th>58</th>\n      <th>59</th>\n      <th>60</th>\n    </tr>\n  </thead>\n  <tbody>\n    <tr>\n      <th>0</th>\n      <td>3125</td>\n      <td>0.000301</td>\n      <td>0.003290</td>\n      <td>0.000369</td>\n      <td>0.000338</td>\n      <td>0.015384</td>\n      <td>0.000580</td>\n      <td>0.006409</td>\n      <td>0.001503</td>\n      <td>0.000048</td>\n      <td>...</td>\n      <td>0.000179</td>\n      <td>0.000205</td>\n      <td>0.000167</td>\n      <td>0.001421</td>\n      <td>0.000473</td>\n      <td>0.000357</td>\n      <td>0.003223</td>\n      <td>0.000174</td>\n      <td>0.000795</td>\n      <td>0.000443</td>\n    </tr>\n    <tr>\n      <th>1</th>\n      <td>3126</td>\n      <td>0.000525</td>\n      <td>0.010528</td>\n      <td>0.000543</td>\n      <td>0.001359</td>\n      <td>0.003105</td>\n      <td>0.002556</td>\n      <td>0.005016</td>\n      <td>0.022472</td>\n      <td>0.017300</td>\n      <td>...</td>\n      <td>0.001372</td>\n      <td>0.000502</td>\n      <td>0.000550</td>\n      <td>0.009339</td>\n      <td>0.000749</td>\n      <td>0.001575</td>\n      <td>0.010912</td>\n      <td>0.002653</td>\n      <td>0.005687</td>\n      <td>0.004452</td>\n    </tr>\n    <tr>\n      <th>2</th>\n      <td>3127</td>\n      <td>0.002067</td>\n      <td>0.001232</td>\n      <td>0.000131</td>\n      <td>0.000051</td>\n      <td>0.029531</td>\n      <td>0.003229</td>\n      <td>0.003287</td>\n      <td>0.002732</td>\n      <td>0.000487</td>\n      <td>...</td>\n      <td>0.003329</td>\n      <td>0.000501</td>\n      <td>0.000281</td>\n      <td>0.000564</td>\n      <td>0.000389</td>\n      <td>0.002273</td>\n      <td>0.002984</td>\n      <td>0.004974</td>\n      <td>0.001399</td>\n      <td>0.000795</td>\n    </tr>\n    <tr>\n      <th>3</th>\n      <td>3128</td>\n      <td>0.000195</td>\n      <td>0.007442</td>\n      <td>0.000289</td>\n      <td>0.000281</td>\n      <td>0.003067</td>\n      <td>0.000305</td>\n      <td>0.001921</td>\n      <td>0.017881</td>\n      <td>0.011907</td>\n      <td>...</td>\n      <td>0.001529</td>\n      <td>0.000721</td>\n      <td>0.000104</td>\n      <td>0.000622</td>\n      <td>0.000217</td>\n      <td>0.000121</td>\n      <td>0.004863</td>\n      <td>0.002204</td>\n      <td>0.000537</td>\n      <td>0.010949</td>\n    </tr>\n    <tr>\n      <th>4</th>\n      <td>3129</td>\n      <td>0.000552</td>\n      <td>0.001173</td>\n      <td>0.000179</td>\n      <td>0.000093</td>\n      <td>0.008247</td>\n      <td>0.000080</td>\n      <td>0.000267</td>\n      <td>0.000792</td>\n      <td>0.000029</td>\n      <td>...</td>\n      <td>0.002180</td>\n      <td>0.000562</td>\n      <td>0.000029</td>\n      <td>0.000017</td>\n      <td>0.000385</td>\n      <td>0.000069</td>\n      <td>0.000395</td>\n      <td>0.004436</td>\n      <td>0.000084</td>\n      <td>0.000536</td>\n    </tr>\n    <tr>\n      <th>...</th>\n      <td>...</td>\n      <td>...</td>\n      <td>...</td>\n      <td>...</td>\n      <td>...</td>\n      <td>...</td>\n      <td>...</td>\n      <td>...</td>\n      <td>...</td>\n      <td>...</td>\n      <td>...</td>\n      <td>...</td>\n      <td>...</td>\n      <td>...</td>\n      <td>...</td>\n      <td>...</td>\n      <td>...</td>\n      <td>...</td>\n      <td>...</td>\n      <td>...</td>\n      <td>...</td>\n    </tr>\n    <tr>\n      <th>777</th>\n      <td>3902</td>\n      <td>0.001380</td>\n      <td>0.000483</td>\n      <td>0.000283</td>\n      <td>0.000670</td>\n      <td>0.003960</td>\n      <td>0.036610</td>\n      <td>0.058447</td>\n      <td>0.000376</td>\n      <td>0.000524</td>\n      <td>...</td>\n      <td>0.000610</td>\n      <td>0.001710</td>\n      <td>0.003780</td>\n      <td>0.036920</td>\n      <td>0.006222</td>\n      <td>0.007019</td>\n      <td>0.028875</td>\n      <td>0.000526</td>\n      <td>0.009594</td>\n      <td>0.000896</td>\n    </tr>\n    <tr>\n      <th>778</th>\n      <td>3903</td>\n      <td>0.005960</td>\n      <td>0.004659</td>\n      <td>0.000341</td>\n      <td>0.000159</td>\n      <td>0.042721</td>\n      <td>0.003638</td>\n      <td>0.004792</td>\n      <td>0.026260</td>\n      <td>0.000690</td>\n      <td>...</td>\n      <td>0.004596</td>\n      <td>0.001197</td>\n      <td>0.000886</td>\n      <td>0.000221</td>\n      <td>0.001182</td>\n      <td>0.004063</td>\n      <td>0.002688</td>\n      <td>0.008492</td>\n      <td>0.009667</td>\n      <td>0.006438</td>\n    </tr>\n    <tr>\n      <th>779</th>\n      <td>3904</td>\n      <td>0.000203</td>\n      <td>0.000204</td>\n      <td>0.000010</td>\n      <td>0.000003</td>\n      <td>0.004813</td>\n      <td>0.004014</td>\n      <td>0.002775</td>\n      <td>0.000650</td>\n      <td>0.000070</td>\n      <td>...</td>\n      <td>0.000422</td>\n      <td>0.000079</td>\n      <td>0.000038</td>\n      <td>0.002174</td>\n      <td>0.000058</td>\n      <td>0.002262</td>\n      <td>0.003412</td>\n      <td>0.000320</td>\n      <td>0.000333</td>\n      <td>0.000139</td>\n    </tr>\n    <tr>\n      <th>780</th>\n      <td>3905</td>\n      <td>0.002598</td>\n      <td>0.017268</td>\n      <td>0.037058</td>\n      <td>0.037534</td>\n      <td>0.007102</td>\n      <td>0.020979</td>\n      <td>0.012106</td>\n      <td>0.000882</td>\n      <td>0.000386</td>\n      <td>...</td>\n      <td>0.004275</td>\n      <td>0.000102</td>\n      <td>0.009638</td>\n      <td>0.104479</td>\n      <td>0.051520</td>\n      <td>0.018730</td>\n      <td>0.009739</td>\n      <td>0.003638</td>\n      <td>0.029044</td>\n      <td>0.000852</td>\n    </tr>\n    <tr>\n      <th>781</th>\n      <td>3906</td>\n      <td>0.001042</td>\n      <td>0.003537</td>\n      <td>0.000139</td>\n      <td>0.000159</td>\n      <td>0.023014</td>\n      <td>0.064257</td>\n      <td>0.022828</td>\n      <td>0.002059</td>\n      <td>0.000520</td>\n      <td>...</td>\n      <td>0.000891</td>\n      <td>0.000137</td>\n      <td>0.001370</td>\n      <td>0.020221</td>\n      <td>0.001227</td>\n      <td>0.088294</td>\n      <td>0.010363</td>\n      <td>0.000662</td>\n      <td>0.005886</td>\n      <td>0.000546</td>\n    </tr>\n  </tbody>\n</table>\n<p>782 rows × 62 columns</p>\n</div>"
     },
     "metadata": {},
     "execution_count": 29
    }
   ],
   "source": [
    "submission"
   ]
  },
  {
   "cell_type": "code",
   "execution_count": 24,
   "metadata": {
    "id": "LZwpL1OOq7Uw"
   },
   "outputs": [],
   "source": [
    "submission.to_csv('submission.csv', index=False)"
   ]
  },
  {
   "cell_type": "code",
   "execution_count": null,
   "metadata": {},
   "outputs": [],
   "source": []
  }
 ],
 "metadata": {
  "accelerator": "GPU",
  "colab": {
   "collapsed_sections": [],
   "name": "월간 11 개발.ipynb",
   "provenance": []
  },
  "hide_input": false,
  "kernelspec": {
   "display_name": "Python 3",
   "language": "python",
   "name": "python3"
  },
  "language_info": {
   "codemirror_mode": {
    "name": "ipython",
    "version": 3
   },
   "file_extension": ".py",
   "mimetype": "text/x-python",
   "name": "python",
   "nbconvert_exporter": "python",
   "pygments_lexer": "ipython3",
   "version": "3.8.7-final"
  },
  "toc": {
   "base_numbering": 1,
   "nav_menu": {},
   "number_sections": true,
   "sideBar": true,
   "skip_h1_title": false,
   "title_cell": "Table of Contents",
   "title_sidebar": "Contents",
   "toc_cell": false,
   "toc_position": {},
   "toc_section_display": true,
   "toc_window_display": false
  },
  "varInspector": {
   "cols": {
    "lenName": 16,
    "lenType": 16,
    "lenVar": 40
   },
   "kernels_config": {
    "python": {
     "delete_cmd_postfix": "",
     "delete_cmd_prefix": "del ",
     "library": "var_list.py",
     "varRefreshCmd": "print(var_dic_list())"
    },
    "r": {
     "delete_cmd_postfix": ") ",
     "delete_cmd_prefix": "rm(",
     "library": "var_list.r",
     "varRefreshCmd": "cat(var_dic_list()) "
    }
   },
   "types_to_exclude": [
    "module",
    "function",
    "builtin_function_or_method",
    "instance",
    "_Feature"
   ],
   "window_display": false
  }
 },
 "nbformat": 4,
 "nbformat_minor": 1
}